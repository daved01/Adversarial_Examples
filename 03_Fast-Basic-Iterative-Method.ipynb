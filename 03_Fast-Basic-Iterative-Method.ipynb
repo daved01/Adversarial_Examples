{
 "cells": [
  {
   "cell_type": "markdown",
   "metadata": {},
   "source": [
    "# Basic Iterative Method"
   ]
  },
  {
   "cell_type": "code",
   "execution_count": 1,
   "metadata": {},
   "outputs": [],
   "source": [
    "# Imports\n",
    "import numpy as np\n",
    "import pandas as pd\n",
    "import matplotlib.pyplot as plt\n",
    "\n",
    "import torch\n",
    "from torchvision import models\n",
    "from torchvision import transforms\n",
    "\n",
    "plt.rcParams['figure.figsize'] = (20.0, 10.0)\n",
    "from IPython.display import clear_output\n",
    "\n",
    "# Import helper functions\n",
    "from modules.helper import *\n",
    "from modules.dataset import ImageNetSubset\n",
    "from modules.bim import apply_BIM\n",
    "from modules.bim import compute_all_bim\n",
    "from modules.bim import BIM_attack_with_selected_samples"
   ]
  },
  {
   "cell_type": "markdown",
   "metadata": {},
   "source": [
    "## 1. Load Model and Data\n",
    "\n",
    "We load the pre-trained googleNet and the data. For details see notebook `00_Helper-Functions`."
   ]
  },
  {
   "cell_type": "code",
   "execution_count": 2,
   "metadata": {},
   "outputs": [],
   "source": [
    "## Load model and data\n",
    "model = models.googlenet(pretrained=True)\n",
    "model.eval();"
   ]
  },
  {
   "cell_type": "code",
   "execution_count": 3,
   "metadata": {},
   "outputs": [],
   "source": [
    "mean = [0.485, 0.456, 0.406]\n",
    "std = [0.229, 0.224, 0.225]   \n",
    "\n",
    "preprocess = transforms.Compose([\n",
    "        transforms.Resize(256),\n",
    "        transforms.CenterCrop(224),\n",
    "        transforms.ToTensor(),\n",
    "        transforms.Normalize(mean=mean, std=std)\n",
    "    ])\n",
    "\n",
    "data_loader = torch.utils.data.DataLoader(\n",
    "    ImageNetSubset(\"data/ImageNet_subset//dev_dataset.csv\", \"data/ImageNet_subset//images/\", transform=preprocess))"
   ]
  },
  {
   "cell_type": "markdown",
   "metadata": {},
   "source": [
    "## 2. Attack\n",
    "\n",
    "BIM requires the following function, which clips pixel values of an image $X^\\prime$:\n",
    "\n",
    "For the implementation we do for the number of iterations `n`:\n",
    "\n",
    "\n",
    "a) Compute $ X^\\prime = \\widetilde{X}_{n} + \\alpha sign(\\nabla_{X} J(\\widetilde{X}_{n}, Y_{true}))$ as used in equation (2.1)\n",
    "\n",
    "b) Compute $ X(x, y, z) + \\epsilon $ and $ X(x, y, z) - \\epsilon $\n",
    "\n",
    "c) Evaluate equation (2.2) using steps a) and b)\n",
    "\n",
    "$max\\{0, X(x, y, z)-\\epsilon, X^\\prime(x, y, z) \\}$ (?)\n",
    "\n",
    "d) Retrieve updated adversarial image $\\widetilde{X}_{1}$ as given in equation (2.1)\n",
    "\n",
    "Values for the hyper parameters given in [2]:\n",
    "\n",
    "- $\\alpha = \\frac{1}{255}$\n",
    "\n",
    "- Number of iterations: $min(4+\\epsilon, 1.25 \\cdot \\epsilon)$\n",
    "\n",
    "- $\\epsilon $"
   ]
  },
  {
   "cell_type": "code",
   "execution_count": null,
   "metadata": {},
   "outputs": [],
   "source": [
    "## TODO: CHECK alpha\n",
    "def compare_examples_bim(alpha, epsilon, idx, folder=None):\n",
    "    '''\n",
    "    Generates an example using BIM. Prints infos and plots clean and adversarial image side-by-side.\n",
    "    \n",
    "    Inputs:\n",
    "    alpha   -- Hyperparameter for BIM\n",
    "    epsilon -- Hyperparameter for BIM\n",
    "    idx     -- Index of sample   \n",
    "    folder  -- If given image will be saved to this folder\n",
    "    '''\n",
    "    \n",
    "    num_iterations = int(np.min([np.ceil( (epsilon/alpha) + 4 ), np.ceil( 1.25 * epsilon/alpha ) ]))\n",
    "    print(\"Number of iterations: \" + str(num_iterations))\n",
    "    \n",
    "    \n",
    "    # Get data\n",
    "    image_clean, target_class = data_loader.dataset[idx]\n",
    "    image_clean.unsqueeze_(0)\n",
    "    target_class.unsqueeze_(0)\n",
    "\n",
    "    # Predict clean example\n",
    "    labels, confidences, gradient = predict(model, image_clean, target_class, return_grad=True)\n",
    "    label_clean = labels[0]\n",
    "    conf_clean = confidences[0]\n",
    "    \n",
    "    # Compute adversarial image and predict for it.    \n",
    "    image_adv = apply_BIM(model, mean, std, image_clean, target_class, alpha, epsilon, num_iterations=num_iterations)\n",
    "    labels, confidences, _ = predict(model, image_adv, target_class, return_grad=False)\n",
    "    label_adv = labels[0]\n",
    "    conf_adv = confidences[0]\n",
    "    \n",
    "    \n",
    "    # Plot\n",
    "    summarize_attack(image_clean, image_adv, conf_clean, conf_adv, label_clean, label_adv, target_class, idx,\n",
    "                        folder=folder)"
   ]
  },
  {
   "cell_type": "markdown",
   "metadata": {},
   "source": [
    "### 2.1 Individual Images\n",
    "\n",
    "Do some cool analysis here. In particularm find one of the examples where a wrong class is predicted with high confidence. Apparently there aren't neccessarily that many in the ImageNet dataset?"
   ]
  },
  {
   "cell_type": "markdown",
   "metadata": {},
   "source": [
    "## 2. Attack"
   ]
  },
  {
   "cell_type": "code",
   "execution_count": null,
   "metadata": {},
   "outputs": [],
   "source": [
    "alpha = 1/255\n",
    "epsilon = 16/255\n",
    "\n",
    "compare_examples_bim(alpha, epsilon, 766, folder=None)"
   ]
  },
  {
   "cell_type": "markdown",
   "metadata": {},
   "source": [
    "## 0. Introduction"
   ]
  },
  {
   "cell_type": "markdown",
   "metadata": {},
   "source": [
    "## 1. All Images\n",
    "\n",
    "We are splitting the data according to the original confidences. For each of the intervals we craft adversarial examples at varying epsilon and report the confidence and accuracy of these attacks for the interval.\n",
    "\n",
    "\n",
    "### 1.1 Intervals of initial confidences\n",
    "\n",
    "use function `BIM_attack_with_selected_samples`"
   ]
  },
  {
   "cell_type": "code",
   "execution_count": null,
   "metadata": {},
   "outputs": [],
   "source": [
    "# Phil -> Done\n",
    "max_confidence = 0.60\n",
    "min_confidence = 0.40\n",
    "\n",
    "\n",
    "# Hyperparameter for attacks\n",
    "epsilons = [0, 0.5/255, 1/255, 2/255, 4/255, 10/255, 20/255, 30/255, 40/255, 50/255, 60/255]    \n",
    "alpha = 1/255\n",
    "\n",
    "result = BIM_attack_with_selected_samples(min_confidence, max_confidence, data_loader, predict, model, mean, std, epsilons, alpha)"
   ]
  },
  {
   "cell_type": "code",
   "execution_count": 4,
   "metadata": {},
   "outputs": [
    {
     "name": "stdout",
     "output_type": "stream",
     "text": [
      "Running for epsilon 60.00\n",
      "Sample: 69 of 69\n",
      "Accuracy top 1 adversarial: 0.00\n",
      "Accuracy top 5 adversarial: 0.00\n",
      "Confidence adversarial: 0.72\n",
      "Number of iterations: 64\n"
     ]
    }
   ],
   "source": [
    "# Dave -> Done\n",
    "max_confidence = 0.90\n",
    "min_confidence = 0.85\n",
    "\n",
    "\n",
    "# Hyperparameter for attacks\n",
    "epsilons = [0, 0.5/255, 1/255, 2/255, 4/255, 10/255, 20/255, 30/255, 40/255, 50/255, 60/255] \n",
    "alpha = 1/255\n",
    "\n",
    "result = BIM_attack_with_selected_samples(min_confidence, max_confidence, data_loader, predict, model, mean, std, epsilons, alpha)"
   ]
  },
  {
   "cell_type": "code",
   "execution_count": null,
   "metadata": {},
   "outputs": [],
   "source": [
    "# Phil -> Done\n",
    "max_confidence = 0.95\n",
    "min_confidence = 0.90\n",
    "\n",
    "\n",
    "# Hyperparameter for attacks\n",
    "epsilons = [0, 0.5/255, 1/255, 2/255, 4/255, 10/255, 20/255, 30/255, 40/255, 50/255, 60/255]    \n",
    "alpha = 1/255\n",
    "\n",
    "result = BIM_attack_with_selected_samples(min_confidence, max_confidence, data_loader, predict, model, mean, std, epsilons, alpha)"
   ]
  },
  {
   "cell_type": "code",
   "execution_count": null,
   "metadata": {},
   "outputs": [],
   "source": [
    "# Phil -> In progress\n",
    "max_confidence = 0.99\n",
    "min_confidence = 0.95\n",
    "\n",
    "\n",
    "# Hyperparameter for attacks\n",
    "epsilons = [0, 0.5/255, 1/255, 2/255, 4/255, 10/255, 20/255, 30/255, 40/255, 50/255, 60/255]    \n",
    "alpha = 1/255\n",
    "\n",
    "result = BIM_attack_with_selected_samples(min_confidence, max_confidence, data_loader, predict, model, mean, std, epsilons, alpha)"
   ]
  },
  {
   "cell_type": "code",
   "execution_count": null,
   "metadata": {},
   "outputs": [],
   "source": [
    "# Dave -> Done\n",
    "\n",
    "max_confidence = 1.00\n",
    "min_confidence = 0.99\n",
    "\n",
    "\n",
    "# Hyperparameter for attacks\n",
    "epsilons = [0, 0.5/255, 1/255, 2/255, 4/255, 10/255, 20/255, 30/255, 40/255, 50/255, 60/255]    \n",
    "alpha = 1/255\n",
    "\n",
    "result = BIM_attack_with_selected_samples(min_confidence, max_confidence, data_loader, predict, model, mean, std, epsilons, alpha)"
   ]
  },
  {
   "cell_type": "code",
   "execution_count": null,
   "metadata": {},
   "outputs": [],
   "source": []
  },
  {
   "cell_type": "code",
   "execution_count": null,
   "metadata": {},
   "outputs": [],
   "source": [
    "### PLOT 1\n",
    "####### PLOT 3\n",
    "# Load data\n",
    "result_99 = pd.read_csv(\"results/BIM-Conf99.csv\")\n",
    "result_95 = pd.read_csv(\"results/BIM-Conf95.csv\")\n",
    "result_90 = pd.read_csv(\"results/BIM-Conf90.csv\")\n",
    "result_85 = pd.read_csv(\"results/BIM-Conf85.csv\") \n",
    "result_40 = pd.read_csv(\"results/BIM-Conf40.csv\")\n",
    "\n",
    "# Plot\n",
    "fig, axs = plt.subplots(1, 2, sharey=True, figsize=(20,10))\n",
    "\n",
    "## Top left: Accuracies\n",
    "axs[0].plot(result_99[\"Epsilon_255\"], result_99[\"Accuracy Top 1\"], \"-^\", color='navy', label='99% - 100%')\n",
    "axs[0].plot(result_95[\"Epsilon_255\"], result_95[\"Accuracy Top 1\"], \"-o\", color='navy', label='95% - 99%')\n",
    "axs[0].plot(result_90[\"Epsilon_255\"], result_90[\"Accuracy Top 1\"], \"-*\", color='navy', label='90% - 95%')\n",
    "axs[0].plot(result_85[\"Epsilon_255\"], result_85[\"Accuracy Top 1\"], \"-s\", color='navy', label='85% - 90%')\n",
    "axs[0].plot(result_40[\"Epsilon_255\"], result_40[\"Accuracy Top 1\"], \"-v\", color='navy', label='40% - 60%')\n",
    "axs[0].legend()\n",
    "#axs[0].set_title(\"Accuracies\", fontsize=25)\n",
    "axs[0].set_xlabel(\"Epsilon * 255\", fontsize=20)\n",
    "\n",
    "## Bottom left: Confidences\n",
    "axs[1].plot(result_99[\"Epsilon_255\"], result_99[\"Confidence\"], \"-^\", color='orange', label='99% - 100%')\n",
    "axs[1].plot(result_95[\"Epsilon_255\"], result_95[\"Confidence\"], \"-o\", color='orange', label='95% - 99%')\n",
    "axs[1].plot(result_90[\"Epsilon_255\"], result_90[\"Confidence\"], \"-*\", color='orange', label='90% - 95%')\n",
    "axs[1].plot(result_85[\"Epsilon_255\"], result_85[\"Confidence\"], \"-s\", color='orange', label='85% - 90%')\n",
    "axs[1].plot(result_40[\"Epsilon_255\"], result_40[\"Confidence\"], \"-v\", color='orange', label='40% - 60%')\n",
    "axs[1].legend()\n",
    "#axs[1].set_title(\"Confidences\", fontsize=25)\n",
    "axs[1].set_xlabel(\"Epsilon * 255\", fontsize=20)\n",
    "\n",
    "## Save plot\n",
    "fig.tight_layout()\n",
    "fig.savefig(\"plots/BIM/Accuracies_Confidences.pdf\")\n",
    "fig.savefig(\"plots/BIM/Accuracies_Confidences.png\")"
   ]
  },
  {
   "cell_type": "markdown",
   "metadata": {},
   "source": [
    "## 2. Indivdual Images"
   ]
  },
  {
   "cell_type": "code",
   "execution_count": null,
   "metadata": {},
   "outputs": [],
   "source": [
    "## TODO: CHECK alpha\n",
    "#def get_confidence_acc_class(sample, epsilon, alpha, num_iterations):\n",
    "    '''\n",
    "    Computes BIM attack and returns info about success.\n",
    "    ...\n",
    "    \n",
    "    Inputs:\n",
    "    sample         -- Index of sample \n",
    "    epsilon        -- Hyperparameter for BIM\n",
    "    alpha          -- Hyperparamezer for BIM\n",
    "    num_iterations -- Number of iterations to perform the BIM with\n",
    "    \n",
    "    Returns:\n",
    "    conf_adv       -- Confidence of adversary\n",
    "    corr           -- Integer to indicate if predicted class is correct (1) or not (0)\n",
    "    class_name_adv -- Label of adversarial class\n",
    "    '''\n",
    "       \n",
    "    \n",
    "    # Get data\n",
    "    image_clean, class_index = data_loader.dataset[sample]\n",
    "    image_clean.unsqueeze_(0)\n",
    "    class_index.unsqueeze_(0)\n",
    "\n",
    "    # Predict clean example\n",
    "    _, _, gradient = predict(model, image_clean, class_index, return_grad=True)\n",
    "              \n",
    "    # Compute adversarial image and predict for it.\n",
    "    image_adv = apply_BIM(model, mean, std, image_clean, class_index, alpha, epsilon, num_iterations=num_iterations)    \n",
    "    predicted_classes, confidences, _ = predict(model, image_adv, class_index, return_grad=False)\n",
    "    \n",
    "    \n",
    "    if predicted_classes[0] == class_index.squeeze().numpy():\n",
    "        corr_adv = 1\n",
    "    else: \n",
    "        corr_adv = 0\n",
    "        \n",
    "    conf_adv = confidences[0] \n",
    "    class_name_adv = idx_to_name(predicted_classes[0])\n",
    "        \n",
    "    return conf_adv, corr_adv, class_name_adv"
   ]
  },
  {
   "cell_type": "code",
   "execution_count": null,
   "metadata": {},
   "outputs": [],
   "source": [
    "## TODO: CHECK alpha\n",
    "#def analyze_bim_conf(sample, alpha, epsilon_conf, num_iterations=None, save_plot=False, print_output=True):\n",
    "    '''\n",
    "    Generates 4 plots: Image, conf over epsilon, top 5 conf for clean image, top 5 conf for adversarial image.\n",
    "    '''  \n",
    "\n",
    "    # Get data\n",
    "    image_clean, class_index = data_loader.dataset[sample]\n",
    "    image_clean.unsqueeze_(0)\n",
    "    class_index.unsqueeze_(0)\n",
    "\n",
    "    # Predict clean example\n",
    "    _, confidences_clean, gradient = predict(model, image_clean, class_index, return_grad=True)\n",
    "    \n",
    "    epsilons = [0, 0.5/255, 1/255, 2/255, 4/255, 8/255, 12/255, 16/255, 20/255]\n",
    "\n",
    "    \n",
    "    conf_list = []\n",
    "    acc_list = []\n",
    "\n",
    "    print(\"Epsilon \\t Accuracy \\t Confidence \\t Label\")\n",
    "\n",
    "    for epsilon in epsilons:\n",
    "        if num_iterations == None:\n",
    "            num_iterations = int(np.min([np.ceil( (epsilon/alpha) + 4 ), np.ceil( 1.25 * epsilon/alpha ) ]))\n",
    "        \n",
    "        conf_adv, acc, predicted_label = get_confidence_acc_class(sample, epsilon, alpha, num_iterations)\n",
    "        conf_list.append(conf_adv)\n",
    "        acc_list.append(acc)\n",
    "        \n",
    "        if print_output == True:\n",
    "            print(str(epsilon*255) + \"\\t\\t\\t\" + str(acc) + \"\\t\" + str(conf_adv) + \"\\t\" + predicted_label) \n",
    "    \n",
    "    # Compute top 5 confidences for selected epsilon\n",
    "    ## Number of iterations\n",
    "    if num_iterations == None:\n",
    "        num_iterations = int(np.min([np.ceil(epsilon*255*4), np.ceil(1.25+(epsilon*255))]))\n",
    "    \n",
    "    image_adv = apply_BIM(model, mean, std, image_clean, class_index, alpha, epsilon_conf, num_iterations=num_iterations)    \n",
    "    \n",
    "    _, confidences_adv, _ = predict(model, image_adv, class_index, return_grad=False)\n",
    "    \n",
    "     \n",
    "    # Plot\n",
    "    samples = [1, 2, 3, 4, 5]\n",
    "    \n",
    "    fig, axs = plt.subplots(1, 4, figsize=(20,5))\n",
    "\n",
    "    ## First image: Clean image\n",
    "    im = show_tensor_image(image_clean)\n",
    "\n",
    "    axs[0].imshow(im)\n",
    "    axs[0].axis('off')\n",
    "\n",
    "    ## Second image: Confidence dist over epsilon and correct/incorrect\n",
    "    axs[1].plot(np.array(epsilons)*255, conf_list, \"-^\", color='orange', label='Confidence')\n",
    "    axs[1].plot(np.array(epsilons)*255, acc_list, \"s\", color='navy', label='1: Corr, 0: False')\n",
    "    axs[1].set_ylim(0, 1.1)\n",
    "    axs[1].set_xlabel(\"Epsilon *255\", fontsize=10)\n",
    "    axs[1].legend()\n",
    "\n",
    "    ## Third image: Clean image top 5 confidence\n",
    "    axs[2].bar(samples, confidences_clean, color='orange')\n",
    "    axs[2].set_ylim(0, 1.1)\n",
    "    axs[2].set_xlabel(\"Epsilon *255\", fontsize=10)\n",
    "\n",
    "    ## Fourth image: Adversarial image selected epsilon top 5 confidence\n",
    "    axs[3].bar(samples, confidences_adv, color='orange')\n",
    "    axs[3].set_ylim(0, 1.1)\n",
    "    axs[3].set_xlabel(\"Epsilon *255\", fontsize=10)\n",
    "    \n",
    "    if save_plot is True:\n",
    "        fig.tight_layout()\n",
    "        fig.savefig(\"plots/BIM/Individual_Images-Sample_\" + str(sample) + \".png\")"
   ]
  },
  {
   "cell_type": "markdown",
   "metadata": {},
   "source": [
    "### 2.1 Confidence and correct/false class over epsilon for individual images\n",
    "Can you find one which:\n",
    "- Cannot be forced to change the class\n",
    "- Changes class and then changes back?\n",
    "- Has higher adversarial confidence than initial confidence"
   ]
  },
  {
   "cell_type": "code",
   "execution_count": null,
   "metadata": {},
   "outputs": [],
   "source": [
    "# All images: Only for correct initial classifiation we compute adversaries.\n",
    "epsilons = [1/255, 2/255, 4/255, 6/255, 8/255, 10/255]\n",
    "\n",
    "\n",
    "result = pd.DataFrame()\n",
    "\n",
    "for epsilon in epsilons:   \n",
    "    conf = []\n",
    "    \n",
    "    for idx in range(1000):\n",
    "        clear_output(wait=True)\n",
    "        print(\"Epsilon \" + str(epsilon*255))\n",
    "        print(idx+1)\n",
    "        conf_adv, acc, label_adv = get_confidence_acc_class(epsilon, idx)\n",
    "        \n",
    "        if acc == 1:\n",
    "            conf.append(conf_adv)\n",
    "\n",
    "        else:\n",
    "            conf.append(0)\n",
    "\n",
    "    result[\"Epsilon \" + str(int(epsilon*255))] = conf\n",
    "\n",
    "#result.to_csv(\"results/BIM-accuracies-corr_only.csv\")"
   ]
  },
  {
   "cell_type": "code",
   "execution_count": null,
   "metadata": {},
   "outputs": [],
   "source": [
    "result = pd.read_csv(\"results/BIM-accuracies-corr_only.csv\", index_col=0)\n",
    "result"
   ]
  },
  {
   "cell_type": "code",
   "execution_count": null,
   "metadata": {},
   "outputs": [],
   "source": []
  },
  {
   "cell_type": "markdown",
   "metadata": {},
   "source": [
    "#### 2.1.1 Predicted class invariant"
   ]
  },
  {
   "cell_type": "markdown",
   "metadata": {},
   "source": [
    "#### Increasing interations"
   ]
  },
  {
   "cell_type": "code",
   "execution_count": null,
   "metadata": {},
   "outputs": [],
   "source": [
    "sample = 132\n",
    "alpha = 1\n",
    "num_iter = 1\n",
    "epsilon_conf = 4/255\n",
    "analyze_bim_conf(sample, alpha, epsilon_conf, num_iterations=num_iter, save_plot=False, print_output=False)\n"
   ]
  },
  {
   "cell_type": "code",
   "execution_count": null,
   "metadata": {},
   "outputs": [],
   "source": [
    "sample = 132\n",
    "alpha = 1\n",
    "num_iter = 5\n",
    "epsilon_conf = 4/255\n",
    "analyze_bim_conf(sample, alpha, epsilon_conf, num_iterations=num_iter, save_plot=False, print_output=False)"
   ]
  },
  {
   "cell_type": "code",
   "execution_count": null,
   "metadata": {},
   "outputs": [],
   "source": [
    "sample = 132\n",
    "alpha = 1\n",
    "num_iter = 10\n",
    "epsilon_conf = 4/255\n",
    "analyze_bim_conf(sample, alpha, epsilon_conf, num_iterations=num_iter, save_plot=False, print_output=False)"
   ]
  },
  {
   "cell_type": "code",
   "execution_count": null,
   "metadata": {},
   "outputs": [],
   "source": [
    "sample = 132\n",
    "alpha = 1\n",
    "num_iter = 20\n",
    "epsilon_conf = 4/255\n",
    "analyze_bim_conf(sample, alpha, epsilon_conf, num_iterations=num_iter, save_plot=False, print_output=False)"
   ]
  },
  {
   "cell_type": "markdown",
   "metadata": {},
   "source": [
    "#### Lowering alpha"
   ]
  },
  {
   "cell_type": "code",
   "execution_count": null,
   "metadata": {},
   "outputs": [],
   "source": [
    "sample = 132\n",
    "alpha = 127/255\n",
    "num_iter = 2\n",
    "epsilon_conf = 4/255\n",
    "analyze_bim_conf(sample, alpha, epsilon_conf, num_iterations=num_iter, save_plot=False, print_output=False)"
   ]
  },
  {
   "cell_type": "code",
   "execution_count": null,
   "metadata": {},
   "outputs": [],
   "source": [
    "sample = 132\n",
    "alpha = 68/255\n",
    "num_iter = 2\n",
    "epsilon_conf = 4/255\n",
    "analyze_bim_conf(sample, alpha, epsilon_conf, num_iterations=num_iter, save_plot=False, print_output=False)"
   ]
  },
  {
   "cell_type": "code",
   "execution_count": null,
   "metadata": {},
   "outputs": [],
   "source": [
    "sample = 132\n",
    "alpha = 34/255\n",
    "num_iter = 2\n",
    "epsilon_conf = 4/255\n",
    "analyze_bim_conf(sample, alpha, epsilon_conf, num_iterations=num_iter, save_plot=False, print_output=False)"
   ]
  },
  {
   "cell_type": "code",
   "execution_count": null,
   "metadata": {},
   "outputs": [],
   "source": [
    "sample = 132\n",
    "alpha = 10/255\n",
    "num_iter = 2\n",
    "epsilon_conf = 4/255\n",
    "analyze_bim_conf(sample, alpha, epsilon_conf, num_iterations=num_iter, save_plot=False, print_output=False)"
   ]
  },
  {
   "cell_type": "markdown",
   "metadata": {},
   "source": [
    "#### Combining alpha and iterations"
   ]
  },
  {
   "cell_type": "code",
   "execution_count": null,
   "metadata": {},
   "outputs": [],
   "source": [
    "sample = 132\n",
    "alpha = 127/255\n",
    "num_iter = 15\n",
    "epsilon_conf = 4/255\n",
    "analyze_bim_conf(sample, alpha, epsilon_conf, num_iterations=num_iter, save_plot=False, print_output=False)"
   ]
  },
  {
   "cell_type": "code",
   "execution_count": null,
   "metadata": {},
   "outputs": [],
   "source": [
    "sample = 132\n",
    "alpha = 68/255\n",
    "num_iter = 15\n",
    "epsilon_conf = 4/255\n",
    "analyze_bim_conf(sample, alpha, epsilon_conf, num_iterations=num_iter, save_plot=False, print_output=False)"
   ]
  },
  {
   "cell_type": "code",
   "execution_count": null,
   "metadata": {},
   "outputs": [],
   "source": [
    "sample = 132\n",
    "alpha = 34/255\n",
    "num_iter = 15\n",
    "epsilon_conf = 4/255\n",
    "analyze_bim_conf(sample, alpha, epsilon_conf, num_iterations=num_iter, save_plot=False, print_output=False)"
   ]
  },
  {
   "cell_type": "code",
   "execution_count": null,
   "metadata": {},
   "outputs": [],
   "source": [
    "sample = 132\n",
    "alpha = 10/255\n",
    "num_iter = 15\n",
    "epsilon_conf = 4/255\n",
    "analyze_bim_conf(sample, alpha, epsilon_conf, num_iterations=num_iter, save_plot=False, print_output=False)"
   ]
  },
  {
   "cell_type": "code",
   "execution_count": null,
   "metadata": {},
   "outputs": [],
   "source": [
    "## Make subplot 3x3\n",
    "\n",
    "\n"
   ]
  },
  {
   "cell_type": "markdown",
   "metadata": {},
   "source": [
    "## Apron example"
   ]
  },
  {
   "cell_type": "code",
   "execution_count": null,
   "metadata": {},
   "outputs": [],
   "source": [
    "sample = 432\n",
    "alpha = 10/255\n",
    "num_iter = 15\n",
    "epsilon_conf = 0/255\n",
    "analyze_bim_conf(sample, alpha, epsilon_conf, num_iterations=num_iter, save_plot=False, print_output=False)"
   ]
  },
  {
   "cell_type": "code",
   "execution_count": null,
   "metadata": {},
   "outputs": [],
   "source": []
  },
  {
   "cell_type": "code",
   "execution_count": null,
   "metadata": {},
   "outputs": [],
   "source": []
  },
  {
   "cell_type": "code",
   "execution_count": null,
   "metadata": {},
   "outputs": [],
   "source": []
  },
  {
   "cell_type": "code",
   "execution_count": null,
   "metadata": {},
   "outputs": [],
   "source": [
    "sample = 323\n",
    "alpha = 10/255\n",
    "num_iter = 15\n",
    "epsilon_conf = 2/255\n",
    "analyze_bim_conf(sample, alpha, epsilon_conf, num_iterations=num_iter, save_plot=False, print_output=False)"
   ]
  },
  {
   "cell_type": "markdown",
   "metadata": {},
   "source": [
    "#### 2.1.2 Class bounces back"
   ]
  },
  {
   "cell_type": "code",
   "execution_count": null,
   "metadata": {},
   "outputs": [],
   "source": [
    "sample = 766\n",
    "epsilon_conf = 4/255\n",
    "analyze_bim_conf(sample, epsilon_conf, save_plot=True)"
   ]
  },
  {
   "cell_type": "code",
   "execution_count": null,
   "metadata": {},
   "outputs": [],
   "source": [
    "sample = 766\n",
    "epsilon_conf = 4/255\n",
    "analyze_bim_conf(sample, epsilon_conf, save_plot=True)"
   ]
  },
  {
   "cell_type": "code",
   "execution_count": null,
   "metadata": {},
   "outputs": [],
   "source": [
    "sample = 766\n",
    "epsilon_conf = 5/255\n",
    "analyze_bim_conf(sample, epsilon_conf, save_plot=False)"
   ]
  },
  {
   "cell_type": "code",
   "execution_count": null,
   "metadata": {},
   "outputs": [],
   "source": [
    "sample = 766\n",
    "epsilon_conf = 18/255\n",
    "analyze_bim_conf(sample, epsilon_conf, save_plot=False)"
   ]
  },
  {
   "cell_type": "code",
   "execution_count": null,
   "metadata": {},
   "outputs": [],
   "source": [
    "sample = 432\n",
    "epsilon_conf = 0.5/255\n",
    "analyze_bim_conf(sample, epsilon_conf, save_plot=True)"
   ]
  },
  {
   "cell_type": "markdown",
   "metadata": {},
   "source": [
    "#### 2.1.3 Adversarial confidence greater than initial confidence"
   ]
  },
  {
   "cell_type": "code",
   "execution_count": null,
   "metadata": {},
   "outputs": [],
   "source": [
    "#--------> Find more examples!!!!!"
   ]
  },
  {
   "cell_type": "code",
   "execution_count": null,
   "metadata": {},
   "outputs": [],
   "source": [
    "sample = 258\n",
    "epsilon_conf = 8/255\n",
    "analyze_bim_conf(sample, epsilon_conf, save_plot=True)\n",
    "\n",
    "# Confidence up to 94% for wrong class at epsilon=8"
   ]
  },
  {
   "cell_type": "code",
   "execution_count": null,
   "metadata": {},
   "outputs": [],
   "source": []
  },
  {
   "cell_type": "markdown",
   "metadata": {},
   "source": [
    "## Some old stuff!!!!!"
   ]
  },
  {
   "cell_type": "code",
   "execution_count": null,
   "metadata": {},
   "outputs": [],
   "source": [
    "iterate_epsilons(766)"
   ]
  },
  {
   "cell_type": "code",
   "execution_count": null,
   "metadata": {},
   "outputs": [],
   "source": [
    "iterate_epsilons(766)"
   ]
  },
  {
   "cell_type": "code",
   "execution_count": null,
   "metadata": {},
   "outputs": [],
   "source": [
    "iterate_epsilons(590)"
   ]
  },
  {
   "cell_type": "code",
   "execution_count": null,
   "metadata": {},
   "outputs": [],
   "source": [
    "iterate_epsilons(132)"
   ]
  },
  {
   "cell_type": "code",
   "execution_count": null,
   "metadata": {},
   "outputs": [],
   "source": [
    "iterate_epsilons(241)"
   ]
  },
  {
   "cell_type": "code",
   "execution_count": null,
   "metadata": {},
   "outputs": [],
   "source": []
  },
  {
   "cell_type": "code",
   "execution_count": null,
   "metadata": {},
   "outputs": [],
   "source": []
  },
  {
   "cell_type": "code",
   "execution_count": null,
   "metadata": {},
   "outputs": [],
   "source": []
  },
  {
   "cell_type": "code",
   "execution_count": null,
   "metadata": {},
   "outputs": [],
   "source": []
  },
  {
   "cell_type": "markdown",
   "metadata": {},
   "source": [
    "### 2.2 All Images\n",
    "\n",
    "We now run attacks with the whole dataset for different values of $\\epsilon$. We will first, make predictions on clean images. Only if this prediction is correct we craft an adversarial example and attack the network. The networks accuracy on the clean dataset is $???$ as shown in the notebook `00_Helper-Functions`."
   ]
  },
  {
   "cell_type": "markdown",
   "metadata": {},
   "source": [
    "#### Comparison paper p.5\n",
    "FGSM vs. BIM when including false initial predictions."
   ]
  },
  {
   "cell_type": "code",
   "execution_count": null,
   "metadata": {},
   "outputs": [],
   "source": [
    "## Part 1 -> Colab 1: Running\n",
    "epsilons = [0, 1/255, 2/255, 4/255, 8/255, 16/255, 32/255]\n",
    "\n",
    "alpha = 1/255 # recommended in paper\n",
    "filename_ext = \"0-32\"\n",
    "\n",
    "top1, top5, conf = compute_all_bim(model, data_loader, predict, mean, std, epsilons, alpha, filename_ext)"
   ]
  },
  {
   "cell_type": "code",
   "execution_count": null,
   "metadata": {},
   "outputs": [],
   "source": [
    "## Part 2 -> Colab 2: Running\n",
    "epsilons = [48/255, 64/255]\n",
    "\n",
    "alpha = 1/255 # recommended in paper\n",
    "filename_ext = \"48-64\"\n",
    "\n",
    "top1, top5, conf = compute_all_bim(model, data_loader, predict, mean, std, epsilons, alpha, filename_ext)"
   ]
  },
  {
   "cell_type": "code",
   "execution_count": null,
   "metadata": {},
   "outputs": [],
   "source": [
    "## Part 3 -> HP 1: Running\n",
    "epsilons = [96/255]\n",
    "\n",
    "alpha = 1/255 # recommended in paper\n",
    "filename_ext = \"96\"\n",
    "\n",
    "top1, top5, conf = compute_all_bim(model, data_loader, predict, mean, std, epsilons, alpha, filename_ext)"
   ]
  },
  {
   "cell_type": "code",
   "execution_count": null,
   "metadata": {},
   "outputs": [],
   "source": [
    "## Part 4 -> Colab 3: Running\n",
    "epsilons = [128/255]\n",
    "\n",
    "alpha = 1/255 # recommended in paper\n",
    "filename_ext = \"128\"\n",
    "\n",
    "top1, top5, conf = compute_all_bim(model, data_loader, predict, mean, std, epsilons, alpha, filename_ext)"
   ]
  },
  {
   "cell_type": "code",
   "execution_count": null,
   "metadata": {},
   "outputs": [],
   "source": [
    "plt.plot(conf, color='navy')"
   ]
  },
  {
   "cell_type": "code",
   "execution_count": null,
   "metadata": {},
   "outputs": [],
   "source": [
    "epsilons = [0, 1/255, 2/255, 4/255, 8/255, 16/255, 32/255, 48/255, 64/255, 96/255, 128/255]\n",
    "top1, top5, conf = compute_all_bim(model, data_loader, predict, mean, std, epsilons)"
   ]
  },
  {
   "cell_type": "code",
   "execution_count": null,
   "metadata": {},
   "outputs": [],
   "source": [
    "plt.plot(np.array(epsilons)*255, top1, \"-o\", color='navy', label='Top 1')\n",
    "plt.plot(np.array(epsilons)*255, top5, \"-o\", color='navy', label='Top 5')\n",
    "plt.ylim(0, 1)\n",
    "plt.legend()\n",
    "plt.xlabel(\"Epsilon\")\n",
    "plt.ylabel(\"Accuracy\")\n",
    "plt.show()"
   ]
  },
  {
   "cell_type": "code",
   "execution_count": null,
   "metadata": {},
   "outputs": [],
   "source": [
    "plt.plot(np.array(epsilons)*255, conf, \"-*\", color='orange', label='Confidence')\n",
    "plt.ylim(0, 1)\n",
    "plt.legend()\n",
    "plt.xlabel(\"Epsilon\")\n",
    "plt.ylabel(\"Confidence\")\n",
    "plt.show()"
   ]
  },
  {
   "cell_type": "markdown",
   "metadata": {},
   "source": [
    "## Comparison: FGSM BIM and ILLM"
   ]
  },
  {
   "cell_type": "code",
   "execution_count": null,
   "metadata": {},
   "outputs": [],
   "source": [
    "fgsm = pd.read_csv(\"results/FGSM/FGSM-all_samples.csv\", index_col=0)\n",
    "bim = pd.read_csv(\"results/BIM/BIM-all_samples.csv\", index_col=0)\n",
    "bim"
   ]
  },
  {
   "cell_type": "code",
   "execution_count": null,
   "metadata": {},
   "outputs": [],
   "source": [
    "# Plot\n",
    "fig, axs = plt.subplots(1, 2, sharey=True, figsize=(20,5))\n",
    "\n",
    "## Left: Accuracies\n",
    "axs[0].plot(fgsm[\"Epsilon\"], fgsm[\"Top1\"], \"-o\", color='navy', label='FGSM Top 1')\n",
    "axs[0].plot(fgsm[\"Epsilon\"], fgsm[\"Top5\"], \"-s\", color='navy', label='FGSM Top 5')\n",
    "axs[0].plot(bim[\"Epsilon\"], bim[\"Top1\"], \"-o\", color='grey', label='BIM Top 1')\n",
    "axs[0].plot(bim[\"Epsilon\"], bim[\"Top5\"], \"-s\", color='grey', label='BIM Top 5')\n",
    "axs[0].legend()\n",
    "axs[0].set_xlabel(\"Epsilon * 255\", fontsize=20)\n",
    "\n",
    "## Right: Confidences\n",
    "axs[1].plot(fgsm[\"Epsilon\"], fgsm[\"Confidence\"], \"-o\", color='orange', label='FGSM Confidence')\n",
    "axs[1].plot(bim[\"Epsilon\"], bim[\"Confidence\"], \"-s\", color='orange', label='BIM Confidence')\n",
    "\n",
    "axs[1].legend()\n",
    "axs[1].set_xlabel(\"Epsilon * 255\", fontsize=20)\n",
    "\n",
    "## Save plot\n",
    "fig.tight_layout()\n",
    "#fig.savefig(\"plots/Compare-attacks.pdf\")\n",
    "#fig.savefig(\"plots/Compare-attacks.png\")"
   ]
  },
  {
   "cell_type": "code",
   "execution_count": null,
   "metadata": {},
   "outputs": [],
   "source": []
  },
  {
   "cell_type": "code",
   "execution_count": null,
   "metadata": {},
   "outputs": [],
   "source": [
    "function ConnectButton(){\n",
    "    console.log(\"Connect pushed\"); \n",
    "    document.querySelector(\"#top-toolbar > colab-connect-button\").shadowRoot.querySelector(\"#connect\").click() \n",
    "}\n",
    "setInterval(ConnectButton,60000);"
   ]
  },
  {
   "cell_type": "markdown",
   "metadata": {},
   "source": [
    "## References\n",
    "\n",
    "[1] &emsp; Goodfellow et al. (2015) *Explaining and Harnessing Adversarial Examples*"
   ]
  }
 ],
 "metadata": {
  "kernelspec": {
   "display_name": "Python 3",
   "language": "python",
   "name": "python3"
  },
  "language_info": {
   "codemirror_mode": {
    "name": "ipython",
    "version": 3
   },
   "file_extension": ".py",
   "mimetype": "text/x-python",
   "name": "python",
   "nbconvert_exporter": "python",
   "pygments_lexer": "ipython3",
   "version": "3.7.7"
  }
 },
 "nbformat": 4,
 "nbformat_minor": 2
}
