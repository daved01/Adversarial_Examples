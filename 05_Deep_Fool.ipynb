{
 "cells": [
  {
   "cell_type": "markdown",
   "metadata": {},
   "source": [
    "# Deep Fool\n",
    "\n",
    "Experiments with the DeepFool algorithm from [Moosavi-Dezfooli, Frossard](https://github.com/LTS4/DeepFool/tree/master/Python). In order to use this notebook the DeepFool implementation has to be downloaded and the Python folder saved to `modules`."
   ]
  },
  {
   "cell_type": "code",
   "execution_count": 1,
   "metadata": {},
   "outputs": [],
   "source": [
    "# Imports\n",
    "import numpy as np\n",
    "import pandas as pd\n",
    "import matplotlib.pyplot as plt\n",
    "\n",
    "import torch\n",
    "from torchvision import models\n",
    "from torchvision import transforms\n",
    "\n",
    "from IPython.display import clear_output\n",
    "\n",
    "# Import helper functions\n",
    "from modules.helper import *\n",
    "from modules.dataset import ImageNetSubset"
   ]
  },
  {
   "cell_type": "markdown",
   "metadata": {},
   "source": [
    "## 0. Load Model and Data\n",
    "\n",
    "We load the pre-trained googleNet and the data. We then remove the softmax output layer as required."
   ]
  },
  {
   "cell_type": "code",
   "execution_count": 23,
   "metadata": {},
   "outputs": [],
   "source": [
    "# Get googleNet without the softmax layer\n",
    "\n",
    "# Load pretrained net\n",
    "model = models.googlenet(pretrained=True)\n",
    "\n",
    "# Remove output layer\n",
    "modules = list(model.children())[:-1]\n",
    "googleNet = nn.Sequential(*modules)\n",
    "\n",
    "for p in googleNet.parameters():\n",
    "    p.requires_grad = False\n",
    "    \n",
    "googleNet.eval();"
   ]
  },
  {
   "cell_type": "code",
   "execution_count": 25,
   "metadata": {},
   "outputs": [],
   "source": [
    "mean = [0.485, 0.456, 0.406]\n",
    "std = [0.229, 0.224, 0.225]   \n",
    "\n",
    "preprocess = transforms.Compose([\n",
    "        transforms.Resize(256),\n",
    "        transforms.CenterCrop(224),\n",
    "        transforms.ToTensor(),\n",
    "        transforms.Normalize(mean=mean, std=std)\n",
    "    ])\n",
    "\n",
    "data_loader = torch.utils.data.DataLoader(\n",
    "    ImageNetSubset(\"data/ImageNet_subset//dev_dataset.csv\", \"data/ImageNet_subset//images/\", transform=preprocess))"
   ]
  },
  {
   "cell_type": "code",
   "execution_count": 30,
   "metadata": {},
   "outputs": [],
   "source": [
    "sample = 766\n",
    "\n",
    "image_clean, class_index = data_loader.dataset[sample]\n",
    "image_clean.unsqueeze_(0)\n",
    "class_index.unsqueeze_(0)\n",
    "\n",
    "\n",
    "\n",
    "pred_classes, conf, _ = predict(model, image_clean, class_index)"
   ]
  },
  {
   "cell_type": "code",
   "execution_count": 32,
   "metadata": {},
   "outputs": [],
   "source": [
    "## The output of the netwok minus softmax is of dimension (1024, 1, 1).\n",
    "\n",
    "sample = 766\n",
    "\n",
    "image_clean, class_index = data_loader.dataset[sample]\n",
    "image_clean.unsqueeze_(0)\n",
    "class_index.unsqueeze_(0)\n",
    "\n",
    "\n",
    "with torch.no_grad():\n",
    "    prediction = googleNet(image_clean)  \n",
    "\n",
    "# Get class index and confidence for prediction \n",
    "prediction = torch.nn.functional.softmax(prediction[0].cpu().detach(), dim=0).numpy()"
   ]
  },
  {
   "cell_type": "code",
   "execution_count": 34,
   "metadata": {},
   "outputs": [
    {
     "data": {
      "text/plain": [
       "(1024, 1, 1)"
      ]
     },
     "execution_count": 34,
     "metadata": {},
     "output_type": "execute_result"
    }
   ],
   "source": [
    "prediction.shape"
   ]
  },
  {
   "cell_type": "code",
   "execution_count": null,
   "metadata": {},
   "outputs": [],
   "source": []
  }
 ],
 "metadata": {
  "kernelspec": {
   "display_name": "Python 3",
   "language": "python",
   "name": "python3"
  },
  "language_info": {
   "codemirror_mode": {
    "name": "ipython",
    "version": 3
   },
   "file_extension": ".py",
   "mimetype": "text/x-python",
   "name": "python",
   "nbconvert_exporter": "python",
   "pygments_lexer": "ipython3",
   "version": "3.7.7"
  }
 },
 "nbformat": 4,
 "nbformat_minor": 4
}
