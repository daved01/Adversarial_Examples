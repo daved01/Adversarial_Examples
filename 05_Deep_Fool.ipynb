{
 "cells": [
  {
   "cell_type": "markdown",
   "metadata": {},
   "source": [
    "# Deep Fool\n",
    "\n",
    "Experiments with the DeepFool algorithm from [Moosavi-Dezfooli, Frossard](https://github.com/LTS4/DeepFool/tree/master/Python). In order to use this notebook the DeepFool implementation has to be downloaded and the Python folder saved to `modules`."
   ]
  },
  {
   "cell_type": "code",
   "execution_count": null,
   "metadata": {},
   "outputs": [],
   "source": [
    "# Imports\n",
    "import numpy as np\n",
    "import pandas as pd\n",
    "import matplotlib.pyplot as plt\n",
    "\n",
    "import torch\n",
    "from torchvision import models\n",
    "from torchvision import transforms\n",
    "\n",
    "from IPython.display import clear_output\n",
    "\n",
    "# Import helper functions\n",
    "from modules.helper import *\n",
    "from modules.dataset import ImageNetSubset\n",
    "\n",
    "# Import DeepFool\n",
    "from modules.DeepFool import deepfool"
   ]
  },
  {
   "cell_type": "markdown",
   "metadata": {},
   "source": [
    "## 0. Load Model and Data\n",
    "\n",
    "We load the pre-trained googleNet and the data."
   ]
  },
  {
   "cell_type": "code",
   "execution_count": null,
   "metadata": {},
   "outputs": [],
   "source": [
    "# Get googleNet without the softmax layer\n",
    "\n",
    "# Load pretrained net\n",
    "model = models.googlenet(pretrained=True)\n",
    "\n",
    "# Remove output layer\n",
    "modules = list(model.children())[:-1]\n",
    "googleNetMod = nn.Sequential(*modules)\n",
    "\n",
    "for p in googleNetMod.parameters():\n",
    "    p.requires_grad = False\n",
    "    \n",
    "googleNetMod.eval();\n",
    "\n",
    "## Load full net for predictions later\n",
    "googleNet = models.googlenet(pretrained=True)\n",
    "googleNet.eval();"
   ]
  },
  {
   "cell_type": "code",
   "execution_count": null,
   "metadata": {},
   "outputs": [],
   "source": [
    "mean = [0.485, 0.456, 0.406]\n",
    "std = [0.229, 0.224, 0.225]   \n",
    "\n",
    "preprocess = transforms.Compose([\n",
    "        transforms.Resize(256),\n",
    "        transforms.CenterCrop(224),\n",
    "        transforms.ToTensor(),\n",
    "        transforms.Normalize(mean=mean, std=std)\n",
    "    ])\n",
    "\n",
    "data_loader = torch.utils.data.DataLoader(\n",
    "    ImageNetSubset(\"data/ImageNet_subset//dev_dataset.csv\", \"data/ImageNet_subset//images/\", transform=preprocess))"
   ]
  },
  {
   "cell_type": "code",
   "execution_count": null,
   "metadata": {},
   "outputs": [],
   "source": []
  },
  {
   "cell_type": "code",
   "execution_count": null,
   "metadata": {},
   "outputs": [],
   "source": [
    "###### BASIC STEPS FOR DEEPFOOL\n",
    "\n",
    "# Parameters\n",
    "sample = 766\n",
    "\n",
    "\n",
    "# Get image\n",
    "image_clean, class_index = data_loader.dataset[sample]\n",
    "image_clean.unsqueeze_(0)\n",
    "class_index.unsqueeze_(0)\n",
    "\n",
    "# Change dimension from (1, 3, 224, 224) to (3, 224, 224):\n",
    "image_clean.squeeze_(0)\n",
    "\n",
    "## Deep Fool attack\n",
    "r_tot, loop_i, class_name_clean, class_name_adver, pert_image = deepfool.deepfool(image_clean, googleNet)\n",
    "print(\"Number of iterations: {}\".format(loop_i))\n",
    "print(\"Adversarial class name: {}\".format(class_name_adver))\n",
    "\n",
    "\n",
    "## Test the adversary:\n",
    "pred_class, confidences, _ = predict(googleNet, pert_image, class_index)\n",
    "print(\"\\n\\nTrue class index: \" +str(int(class_index.numpy().squeeze())))\n",
    "print(\"Predicted adversarial class index: \" +str(pred_class[0]))\n",
    "print(\"Adversarial confidence: {:.2f}\".format(confidences[0]))\n",
    "\n",
    "\n",
    "show_tensor_image(pert_image)"
   ]
  },
  {
   "cell_type": "markdown",
   "metadata": {},
   "source": [
    "## 2. All Images\n",
    "\n",
    "We are splitting the data according to the original confidences. For each of the intervals we craft adversarial examples at varying epsilon and report the confidence and accuracy of these attacks for the interval.\n",
    "\n",
    "\n",
    "**TODO:**\n",
    "- Generate adversaries from all samples if init prediction is correct. Track confidence\n",
    "- Generate adversaries for sampels from confidence ranges and compare to other methods.\n",
    "\n",
    "### 2.1 Confidences for all samples where initial prediction is correct"
   ]
  },
  {
   "cell_type": "code",
   "execution_count": null,
   "metadata": {},
   "outputs": [],
   "source": [
    "result = pd.DataFrame()\n",
    "\n",
    "# Find examples with correct initial prediction\n",
    "samples = []\n",
    "\n",
    "for sample in range(1000):\n",
    "    image_clean, class_index = data_loader.dataset[sample]\n",
    "    image_clean.unsqueeze_(0)\n",
    "    class_index.unsqueeze_(0)\n",
    "    \n",
    "    predicted_classes, _, _ = predict(model, image_clean.cpu(), class_index, return_grad=False)\n",
    "        \n",
    "    if predicted_classes[0] == class_index.cpu().squeeze().numpy():\n",
    "        samples.append(sample)\n",
    "        clear_output(wait=True)\n",
    "        print(\"Identified correct clean predictions: {}\".format(len(samples)))\n",
    "\n",
    "        \n",
    "result[\"Sample\"] = samples\n",
    "\n",
    "conf1 = []\n",
    "conf2 = []\n",
    "conf3 = []\n",
    "conf4 = []\n",
    "conf5 = []\n",
    "num_iter = []\n",
    "class_indices_clean = []\n",
    "class_indices_adver = []\n",
    "adver_succ = []\n",
    "\n",
    "# Attack only if initial prediction is correct\n",
    "counter = 1\n",
    "for sample in samples:\n",
    "    clear_output(wait=True)\n",
    "    print(\"Processing sample {} of {}\".format(counter, len(samples)))\n",
    "        \n",
    "    # Get data\n",
    "    image_clean, class_index = data_loader.dataset[sample]\n",
    "    image_clean.unsqueeze_(0)\n",
    "    class_index.unsqueeze_(0)\n",
    "\n",
    "    # Change dimension from (1, 3, 224, 224) to (3, 224, 224):\n",
    "    image_clean.squeeze_(0)\n",
    "\n",
    "    # Deep Fool attack\n",
    "    _, loop_i, class_index_clean, class_index_adver, pert_image = deepfool.deepfool(image_clean, googleNet)\n",
    "    \n",
    "    # Test image to get confidence\n",
    "    pred_class, confidences, _ = predict(googleNet, pert_image, class_index)\n",
    "    \n",
    "    assert(class_index_adver == pred_class[0])\n",
    "    \n",
    "    # Check for adversarial success. 1 If class changed, 0 if not\n",
    "    if pred_class[0] == class_index.cpu().squeeze(0).numpy():\n",
    "        adver_succ.append(0)\n",
    "    else:\n",
    "        adver_succ.append(1)\n",
    "        \n",
    "    \n",
    "    # Save stats for sample\n",
    "    num_iter.append(loop_i)\n",
    "    class_indices_clean.append(class_index_clean)\n",
    "    class_indices_adver.append(pred_class[0])  \n",
    "    conf1.append(confidences[0])\n",
    "    conf2.append(confidences[1])\n",
    "    conf3.append(confidences[2])\n",
    "    conf4.append(confidences[3])\n",
    "    conf5.append(confidences[4])\n",
    "    \n",
    "    counter += 1\n",
    "\n",
    "    \n",
    "# Save results\n",
    "result[\"Clean class\"] = class_indices_clean\n",
    "result[\"Adversarial class\"] = class_indices_adver\n",
    "result[\"Success\"] = adver_succ\n",
    "result[\"Iterations\"] = num_iter\n",
    "result[\"Confidence 1\"] = conf1\n",
    "result[\"Confidence 2\"] = conf2\n",
    "result[\"Confidence 3\"] = conf3\n",
    "result[\"Confidence 4\"] = conf4\n",
    "result[\"Confidence 5\"] = conf5\n",
    "    \n",
    "# Save results\n",
    "#result.to_csv(\"results/DeepFool/DeepFool-adversarial_confidences_corr_only.csv\")\n",
    "\n",
    "print(\"Done\")"
   ]
  },
  {
   "cell_type": "code",
   "execution_count": null,
   "metadata": {},
   "outputs": [],
   "source": [
    "results_deepfool = pd.read_csv(\"results/DeepFool/DeepFool-adversarial_confidences_corr_only.csv\", index_col=0)"
   ]
  },
  {
   "cell_type": "markdown",
   "metadata": {},
   "source": [
    "### 2.2 Confidence ranges"
   ]
  },
  {
   "cell_type": "code",
   "execution_count": null,
   "metadata": {},
   "outputs": [],
   "source": []
  },
  {
   "cell_type": "code",
   "execution_count": null,
   "metadata": {},
   "outputs": [],
   "source": []
  },
  {
   "cell_type": "markdown",
   "metadata": {},
   "source": [
    "## 3. Individual samples\n",
    "\n",
    "-> Generate plots: Original image, adversary, top 5 confidence dist orig, top 5 conf dist adver"
   ]
  },
  {
   "cell_type": "code",
   "execution_count": null,
   "metadata": {},
   "outputs": [],
   "source": []
  },
  {
   "cell_type": "code",
   "execution_count": null,
   "metadata": {},
   "outputs": [],
   "source": []
  },
  {
   "cell_type": "markdown",
   "metadata": {},
   "source": [
    "## References\n",
    "\n",
    "[1] &emsp;  Moosavi-Dezfooli, S.-M., Fawzi, A., & Frossard, P. (2016). DeepFool: A Simple and Accurate Method to Fool Deep Neural Networks. 2016 IEEE Conference on Computer Vision and Pattern Recognition (CVPR)."
   ]
  }
 ],
 "metadata": {
  "kernelspec": {
   "display_name": "Python 3",
   "language": "python",
   "name": "python3"
  },
  "language_info": {
   "codemirror_mode": {
    "name": "ipython",
    "version": 3
   },
   "file_extension": ".py",
   "mimetype": "text/x-python",
   "name": "python",
   "nbconvert_exporter": "python",
   "pygments_lexer": "ipython3",
   "version": "3.7.7"
  }
 },
 "nbformat": 4,
 "nbformat_minor": 4
}
